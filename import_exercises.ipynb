{
 "cells": [
  {
   "cell_type": "code",
   "execution_count": 1,
   "id": "7cd13a80",
   "metadata": {},
   "outputs": [
    {
     "name": "stdout",
     "output_type": "stream",
     "text": [
      "GIVE ME AN A...  GIVE ME A E...  Or anything really I don't care, just a letter or 'quit':\n",
      "a\n",
      "You got vowel spirit!\n"
     ]
    }
   ],
   "source": [
    "# 1a. Run an interactive python session and import the module. \n",
    "#     Call the is_vowel function using the . syntax.\n",
    "from function_exercises import is_vowel\n",
    "is_vowel()"
   ]
  },
  {
   "cell_type": "code",
   "execution_count": 2,
   "id": "dc2a954b",
   "metadata": {},
   "outputs": [
    {
     "name": "stdout",
     "output_type": "stream",
     "text": [
      "What tip percent would you like to apply? e.g. 5% = .05\n",
      ".10\n",
      "What is the total cost of your bill?\n",
      "100\n",
      "Tip Total: 10.0 \n",
      "Tip Percentage: 10.0 % \n",
      "Bill Total: 100.0 \n",
      "Grand Total: 110.0\n"
     ]
    }
   ],
   "source": [
    "# 1b. Create a file named import_exericses.py. Within this file, use from to \n",
    "#     import the calculate_tip function directly. Call this function with values \n",
    "#     you choose and print the result.\n",
    "from function_exercises import calculate_tip\n",
    "calculate_tip()"
   ]
  },
  {
   "cell_type": "code",
   "execution_count": 3,
   "id": "c86d43d8",
   "metadata": {},
   "outputs": [
    {
     "name": "stdout",
     "output_type": "stream",
     "text": [
      "WUT NUMBAH YUU GIT ON TEST?\n",
      "99\n",
      "A <== Y U NO DOCTA YET\n"
     ]
    }
   ],
   "source": [
    "# 1c. Create a jupyter notebook named import_exercises.ipynb. Use from to import \n",
    "#     the get_letter_grade function and give it an alias. Test this function in \n",
    "#     your notebook.\n",
    "from function_exercises import get_letter_grade as grade\n",
    "grade()"
   ]
  },
  {
   "cell_type": "code",
   "execution_count": 143,
   "id": "2f2a14b0",
   "metadata": {},
   "outputs": [],
   "source": [
    "# 2. Read about and use the itertools module from the python standard library to \n",
    "#    help you solve the following problems:\n",
    "import itertools as it\n",
    "itertools?"
   ]
  },
  {
   "cell_type": "code",
   "execution_count": 23,
   "id": "ac835f44",
   "metadata": {},
   "outputs": [
    {
     "data": {
      "text/plain": [
       "9"
      ]
     },
     "execution_count": 23,
     "metadata": {},
     "output_type": "execute_result"
    }
   ],
   "source": [
    "# 2a. How many different ways can you combine a single letter from \"abc\" with \n",
    "#     either 1, 2, or 3?\n",
    "a = ['a', 'b', 'c']\n",
    "b = [1, 2, 3]\n",
    "c = list(it.product(a, b))\n",
    "sum([1 for x in c])"
   ]
  },
  {
   "cell_type": "code",
   "execution_count": 25,
   "id": "9e705fef",
   "metadata": {},
   "outputs": [
    {
     "data": {
      "text/plain": [
       "6"
      ]
     },
     "execution_count": 25,
     "metadata": {},
     "output_type": "execute_result"
    }
   ],
   "source": [
    "# 2b. How many different combinations are there of 2 letters from \"abcd\"?\n",
    "a = ['a', 'b', 'c', 'd']\n",
    "b = list(it.combinations(a, 2))\n",
    "sum([1 for x in b])"
   ]
  },
  {
   "cell_type": "code",
   "execution_count": 28,
   "id": "f9724cf8",
   "metadata": {},
   "outputs": [
    {
     "data": {
      "text/plain": [
       "12"
      ]
     },
     "execution_count": 28,
     "metadata": {},
     "output_type": "execute_result"
    }
   ],
   "source": [
    "# 2c. How many different permutations are there of 2 letters from \"abcd\"?\n",
    "a = list(it.permutations('abcd', 2))\n",
    "sum([1 for x in a])"
   ]
  },
  {
   "cell_type": "code",
   "execution_count": 8,
   "id": "e93e543e",
   "metadata": {},
   "outputs": [],
   "source": [
    "# 3. Save this file as profiles.json inside of your exercises directory \n",
    "#    (right click -> save file as...).\n",
    "#    Use the load function from the json module to open this file.\n",
    "import json\n",
    "a = json.load(open('profiles.json'))"
   ]
  },
  {
   "cell_type": "code",
   "execution_count": 9,
   "id": "3d8dff82",
   "metadata": {},
   "outputs": [
    {
     "name": "stdout",
     "output_type": "stream",
     "text": [
      "Total Users ==> 19\n"
     ]
    }
   ],
   "source": [
    "# Your code should produce a list of dictionaries. Using this data, write \n",
    "# some code that calculates and outputs the following information:\n",
    "\n",
    "# Total number of users\n",
    "print('Total Users ==>', len(a))"
   ]
  },
  {
   "cell_type": "code",
   "execution_count": 10,
   "id": "6940080f",
   "metadata": {},
   "outputs": [
    {
     "name": "stdout",
     "output_type": "stream",
     "text": [
      "Active Users ==> 9\n"
     ]
    }
   ],
   "source": [
    "# Number of active users\n",
    "Active = sum([1 for dict in a if dict['isActive'] is True])\n",
    "print('Active Users ==>', Active)"
   ]
  },
  {
   "cell_type": "code",
   "execution_count": 11,
   "id": "1dd69035",
   "metadata": {},
   "outputs": [
    {
     "name": "stdout",
     "output_type": "stream",
     "text": [
      "Inactive Users ==> 10\n"
     ]
    }
   ],
   "source": [
    "# Number of inactive users\n",
    "Inactive = sum([1 for dict in a if dict['isActive'] == False])\n",
    "print('Inactive Users ==>', Inactive)"
   ]
  },
  {
   "cell_type": "code",
   "execution_count": 12,
   "id": "de87b074",
   "metadata": {},
   "outputs": [
    {
     "name": "stdout",
     "output_type": "stream",
     "text": [
      "Grand total ==> 52667.02\n"
     ]
    }
   ],
   "source": [
    "# Grand total of balances for all users\n",
    "#grand_bal = sum([dict['balance'] for dict in a])\n",
    "#grand_bal\n",
    "strip_balance = ([float(dict['balance'].strip('$').replace(',', '')) for dict in a])\n",
    "total = sum([x for x in strip_balance])\n",
    "print('Grand total ==>', total)"
   ]
  },
  {
   "cell_type": "code",
   "execution_count": 13,
   "id": "122a39d8",
   "metadata": {},
   "outputs": [
    {
     "name": "stdout",
     "output_type": "stream",
     "text": [
      "Average balance per user ==> 2771.0\n"
     ]
    }
   ],
   "source": [
    "# Average balance per user\n",
    "avg = total // len(a)\n",
    "print('Average balance per user ==>', avg)"
   ]
  },
  {
   "cell_type": "code",
   "execution_count": 47,
   "id": "00ea690f",
   "metadata": {},
   "outputs": [
    {
     "name": "stdout",
     "output_type": "stream",
     "text": [
      "Name: ['Avery Flynn'] \n",
      "Balance: ['$1,214.10']\n"
     ]
    }
   ],
   "source": [
    "# User with the lowest balance\n",
    "#for dict in a:\n",
    "#    if min(strip_balance):\n",
    "#        print(dict)\n",
    "#print(question)\n",
    "min_value = ([dict['balance'] for dict in a if float(dict['balance'].strip('$').replace(',', '')) == min(strip_balance)])\n",
    "min_name = ([dict['name'] for dict in a if float(dict['balance'].strip('$').replace(',', '')) == min(strip_balance)])\n",
    "print('Name:', min_name, '\\nBalance:', min_value)"
   ]
  },
  {
   "cell_type": "code",
   "execution_count": 50,
   "id": "3afd2f8a",
   "metadata": {},
   "outputs": [
    {
     "name": "stdout",
     "output_type": "stream",
     "text": [
      "Name: ['Fay Hammond'] \n",
      "Balance: ['$3,919.64']\n"
     ]
    }
   ],
   "source": [
    "# User with the highest balance\n",
    "max_value = ([dict['balance'] for dict in a if float(dict['balance'].strip('$').replace(',', '')) == max(strip_balance)])\n",
    "max_name = ([dict['name'] for dict in a if float(dict['balance'].strip('$').replace(',', '')) == max(strip_balance)])\n",
    "print('Name:', max_name, '\\nBalance:', max_value)"
   ]
  },
  {
   "cell_type": "code",
   "execution_count": 60,
   "id": "d721e89b",
   "metadata": {},
   "outputs": [
    {
     "name": "stdout",
     "output_type": "stream",
     "text": [
      "{'banana', 'apple', 'strawberry'}\n",
      "  apple   |  banana  |strawberry\n",
      "  -----   |  ------  |----------\n",
      "    6     |    4     |    9     \n"
     ]
    }
   ],
   "source": [
    "# Most common favorite fruit\n",
    "fruits_test = set([dict['favoriteFruit'] for dict in a])\n",
    "print(fruits_test)\n",
    "total_apple = sum([1 for dict in a if 'apple' in dict['favoriteFruit']])\n",
    "total_banana = sum([1 for dict in a if 'banana' in dict['favoriteFruit']])\n",
    "total_strawberry = sum([1 for dict in a if 'strawberry' in dict['favoriteFruit']])\n",
    "def fruits_total():\n",
    "    print(f\"{'apple' : ^10}|{'banana' : ^10}|{'strawberry' : ^10}\")\n",
    "    print(f\"{'-----' : ^10}|{'------' : ^10}|{'----------' : ^10}\")\n",
    "    print(f\"{total_apple : ^10}|{total_banana : ^10}|{total_strawberry : ^10}\")\n",
    "fruits_total()"
   ]
  },
  {
   "cell_type": "code",
   "execution_count": 61,
   "id": "8545e874",
   "metadata": {},
   "outputs": [
    {
     "name": "stdout",
     "output_type": "stream",
     "text": [
      "  apple   |  banana  |strawberry\n",
      "  -----   |  ------  |----------\n",
      "    6     |    4     |    9     \n"
     ]
    }
   ],
   "source": [
    "# Least most common favorite fruit\n",
    "fruits_total()"
   ]
  },
  {
   "cell_type": "code",
   "execution_count": 82,
   "id": "956b1b22",
   "metadata": {},
   "outputs": [
    {
     "name": "stdout",
     "output_type": "stream",
     "text": [
      "[4, 19, 5, 10, 9, 19, 13, 17, 2, 18, 2, 13, 7, 13, 12, 7, 19, 5, 16]\n",
      "There are 210 unread messages across all users\n"
     ]
    }
   ],
   "source": [
    "# Total number of unread messages for all users\n",
    "greeting_test = ([int(dict['greeting'].split()[-3]) for dict in a])\n",
    "print(greeting_test)\n",
    "total_msg = sum(greeting_test)\n",
    "print(f\"There are {total_msg} unread messages across all users\")"
   ]
  }
 ],
 "metadata": {
  "kernelspec": {
   "display_name": "Python 3 (ipykernel)",
   "language": "python",
   "name": "python3"
  },
  "language_info": {
   "codemirror_mode": {
    "name": "ipython",
    "version": 3
   },
   "file_extension": ".py",
   "mimetype": "text/x-python",
   "name": "python",
   "nbconvert_exporter": "python",
   "pygments_lexer": "ipython3",
   "version": "3.9.13"
  }
 },
 "nbformat": 4,
 "nbformat_minor": 5
}
