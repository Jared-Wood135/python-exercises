{
 "cells": [
  {
   "cell_type": "markdown",
   "id": "8c42c4cf",
   "metadata": {},
   "source": [
    "# Shortcut Commands\n",
    "| Shortcut | Input |\n",
    "| :-: | :-: |\n",
    "| Command Mode | ESC |\n",
    "| Edit Mode | Double-Click Cell |\n",
    "| Markdown | IN CMD MODE - M |\n",
    "| Code | IN CMD MODE - M |\n",
    "| Insert Cell Above | IN CMD MODE - A |\n",
    "| Insert Cell Below | IN CMD MODE - B |\n",
    "| Delete Cell | IN CMD MODE - X |\n",
    "| Undo Delete Cell | IN CMD MODE - Z |"
   ]
  },
  {
   "cell_type": "markdown",
   "id": "b1e0833c",
   "metadata": {},
   "source": [
    "# Run In Program Command\n",
    "Three backticks, followed by program name to initialize program.\n",
    "Three backticks AFTER what you want ran in the program to end the program.\n",
    "\n",
    "### EXAMPLE\n",
    "```python\n",
    "print(\"ya-yeet\")\n",
    "```"
   ]
  },
  {
   "cell_type": "markdown",
   "id": "b155ecab",
   "metadata": {},
   "source": [
    "# Python Types\n",
    "| Type | Example |\n",
    "| :-: | :-: |\n",
    "| int | 1 |\n",
    "| float | 1.1 |\n",
    "| str | 'yeet' |\n",
    "| bool | True/False |\n",
    "| list | [] |\n",
    "| dict | {} |"
   ]
  },
  {
   "cell_type": "code",
   "execution_count": null,
   "id": "f9059909",
   "metadata": {},
   "outputs": [],
   "source": []
  }
 ],
 "metadata": {
  "kernelspec": {
   "display_name": "Python 3 (ipykernel)",
   "language": "python",
   "name": "python3"
  },
  "language_info": {
   "codemirror_mode": {
    "name": "ipython",
    "version": 3
   },
   "file_extension": ".py",
   "mimetype": "text/x-python",
   "name": "python",
   "nbconvert_exporter": "python",
   "pygments_lexer": "ipython3",
   "version": "3.9.13"
  }
 },
 "nbformat": 4,
 "nbformat_minor": 5
}
