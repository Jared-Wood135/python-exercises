{
 "cells": [
  {
   "cell_type": "markdown",
   "id": "ba14d1ed",
   "metadata": {},
   "source": [
    "## Control Structures:\n",
    "\n",
    "### Topic 1: If Statements!"
   ]
  },
  {
   "cell_type": "code",
   "execution_count": 1,
   "id": "1e0b98aa",
   "metadata": {},
   "outputs": [],
   "source": [
    "# an if statement controls what action I do when!\n",
    "\n",
    "# if <thing>:\n",
    "#    <do action>\n",
    "\n",
    "# let's start with a variable called breakfast\n",
    "breakfast = 'coffee'"
   ]
  },
  {
   "cell_type": "code",
   "execution_count": 2,
   "id": "53e61032",
   "metadata": {},
   "outputs": [
    {
     "data": {
      "text/plain": [
       "'coffee'"
      ]
     },
     "execution_count": 2,
     "metadata": {},
     "output_type": "execute_result"
    }
   ],
   "source": [
    "breakfast"
   ]
  },
  {
   "cell_type": "code",
   "execution_count": 4,
   "id": "b02e3cef",
   "metadata": {},
   "outputs": [],
   "source": [
    "# remember!\n",
    "# = in python is an assignment operator\n",
    "# == in python is an equivalence check\n",
    "if breakfast == 'banana':\n",
    "    print('you had fruit!')"
   ]
  },
  {
   "cell_type": "code",
   "execution_count": 5,
   "id": "0f42d69f",
   "metadata": {},
   "outputs": [
    {
     "name": "stdout",
     "output_type": "stream",
     "text": [
      "you had something else! or nothing? idk.\n"
     ]
    }
   ],
   "source": [
    "# if I build this out with an else:\n",
    "if breakfast == 'banana':\n",
    "    print('you had fruit!')\n",
    "else:\n",
    "    print('you had something else! or nothing? idk.')"
   ]
  },
  {
   "cell_type": "code",
   "execution_count": 7,
   "id": "30f098ac",
   "metadata": {},
   "outputs": [],
   "source": [
    "# let's change breakfast\n",
    "breakfast = 'banana'"
   ]
  },
  {
   "cell_type": "code",
   "execution_count": 8,
   "id": "dfe8f759",
   "metadata": {},
   "outputs": [
    {
     "data": {
      "text/plain": [
       "str"
      ]
     },
     "execution_count": 8,
     "metadata": {},
     "output_type": "execute_result"
    }
   ],
   "source": [
    "type(breakfast)"
   ]
  },
  {
   "cell_type": "code",
   "execution_count": 9,
   "id": "d62247a7",
   "metadata": {},
   "outputs": [
    {
     "data": {
      "text/plain": [
       "'banana'"
      ]
     },
     "execution_count": 9,
     "metadata": {},
     "output_type": "execute_result"
    }
   ],
   "source": [
    "breakfast"
   ]
  },
  {
   "cell_type": "code",
   "execution_count": 10,
   "id": "b797f965",
   "metadata": {},
   "outputs": [
    {
     "name": "stdout",
     "output_type": "stream",
     "text": [
      "you had fruit!\n"
     ]
    }
   ],
   "source": [
    "if breakfast == 'banana':\n",
    "    print('you had fruit!')\n",
    "else:\n",
    "    print('you had something else! or nothing? idk.')"
   ]
  },
  {
   "cell_type": "code",
   "execution_count": 11,
   "id": "0679a258",
   "metadata": {},
   "outputs": [],
   "source": [
    "# Let's shake it up a little bit:\n",
    "had_coffee = True"
   ]
  },
  {
   "cell_type": "code",
   "execution_count": 12,
   "id": "c5309739",
   "metadata": {},
   "outputs": [
    {
     "data": {
      "text/plain": [
       "bool"
      ]
     },
     "execution_count": 12,
     "metadata": {},
     "output_type": "execute_result"
    }
   ],
   "source": [
    "type(had_coffee)"
   ]
  },
  {
   "cell_type": "code",
   "execution_count": 13,
   "id": "7ad49820",
   "metadata": {},
   "outputs": [
    {
     "name": "stdout",
     "output_type": "stream",
     "text": [
      "you had fruit!\n"
     ]
    }
   ],
   "source": [
    "if not had_coffee:\n",
    "    print('you may need more caffeine!')\n",
    "elif breakfast == 'banana':\n",
    "    print('you had fruit!')\n",
    "else:\n",
    "    print('you had something else! or nothing? idk.')"
   ]
  },
  {
   "cell_type": "code",
   "execution_count": 14,
   "id": "ab60bbd7",
   "metadata": {},
   "outputs": [
    {
     "name": "stdout",
     "output_type": "stream",
     "text": [
      "breakfast! yay breakfast!\n"
     ]
    }
   ],
   "source": [
    "if breakfast:\n",
    "    print('breakfast! yay breakfast!')"
   ]
  },
  {
   "cell_type": "code",
   "execution_count": 15,
   "id": "8e786f5c",
   "metadata": {},
   "outputs": [
    {
     "data": {
      "text/plain": [
       "'banana'"
      ]
     },
     "execution_count": 15,
     "metadata": {},
     "output_type": "execute_result"
    }
   ],
   "source": [
    "breakfast"
   ]
  },
  {
   "cell_type": "code",
   "execution_count": 16,
   "id": "f9e0c163",
   "metadata": {},
   "outputs": [
    {
     "data": {
      "text/plain": [
       "str"
      ]
     },
     "execution_count": 16,
     "metadata": {},
     "output_type": "execute_result"
    }
   ],
   "source": [
    "type(breakfast)"
   ]
  },
  {
   "cell_type": "code",
   "execution_count": 17,
   "id": "8a9cae0d",
   "metadata": {},
   "outputs": [
    {
     "ename": "NameError",
     "evalue": "name 'lunch' is not defined",
     "output_type": "error",
     "traceback": [
      "\u001b[0;31m---------------------------------------------------------------------------\u001b[0m",
      "\u001b[0;31mNameError\u001b[0m                                 Traceback (most recent call last)",
      "\u001b[0;32m/var/folders/6x/kctcvd8x6l18t57t92kmqy6w0000gn/T/ipykernel_17950/2196255257.py\u001b[0m in \u001b[0;36m<module>\u001b[0;34m\u001b[0m\n\u001b[0;32m----> 1\u001b[0;31m \u001b[0;32mif\u001b[0m \u001b[0mlunch\u001b[0m\u001b[0;34m:\u001b[0m\u001b[0;34m\u001b[0m\u001b[0;34m\u001b[0m\u001b[0m\n\u001b[0m\u001b[1;32m      2\u001b[0m     \u001b[0mprint\u001b[0m\u001b[0;34m(\u001b[0m\u001b[0;34m'yay lunch!'\u001b[0m\u001b[0;34m)\u001b[0m\u001b[0;34m\u001b[0m\u001b[0;34m\u001b[0m\u001b[0m\n",
      "\u001b[0;31mNameError\u001b[0m: name 'lunch' is not defined"
     ]
    }
   ],
   "source": [
    "if lunch:\n",
    "    print('yay lunch!')"
   ]
  },
  {
   "cell_type": "code",
   "execution_count": 18,
   "id": "a4f1c0dd",
   "metadata": {},
   "outputs": [
    {
     "name": "stdout",
     "output_type": "stream",
     "text": [
      "you may need more caffeine!\n"
     ]
    }
   ],
   "source": [
    "if had_coffee:\n",
    "    print('you may need more caffeine!')\n",
    "elif breakfast == 'banana':\n",
    "    print('you had fruit!')\n",
    "else:\n",
    "    print('you had something else! or nothing? idk.')"
   ]
  },
  {
   "cell_type": "code",
   "execution_count": 19,
   "id": "152b92d1",
   "metadata": {},
   "outputs": [
    {
     "name": "stdout",
     "output_type": "stream",
     "text": [
      "you may need more caffeine!\n",
      "you had fruit!\n"
     ]
    }
   ],
   "source": [
    "if had_coffee:\n",
    "    print('you may need more caffeine!')\n",
    "if breakfast == 'banana':\n",
    "    print('you had fruit!')\n",
    "else:\n",
    "    print('you had something else! or nothing? idk.')"
   ]
  },
  {
   "cell_type": "code",
   "execution_count": 20,
   "id": "4a15e94d",
   "metadata": {},
   "outputs": [
    {
     "name": "stdout",
     "output_type": "stream",
     "text": [
      "somewhat balanced! healthy-ish!\n"
     ]
    }
   ],
   "source": [
    "if had_coffee and breakfast == 'banana':\n",
    "    print('somewhat balanced! healthy-ish!')\n",
    "else:\n",
    "    print('live your life!')"
   ]
  },
  {
   "cell_type": "code",
   "execution_count": 21,
   "id": "8ebcf7ae",
   "metadata": {},
   "outputs": [],
   "source": [
    "# Highlight text and type quote, parathesis, brackets, etc. will wrap text\n",
    "# Highlight text and cmd + slash will comment out everything"
   ]
  },
  {
   "cell_type": "code",
   "execution_count": null,
   "id": "31e081a9",
   "metadata": {},
   "outputs": [],
   "source": []
  }
 ],
 "metadata": {
  "kernelspec": {
   "display_name": "Python 3 (ipykernel)",
   "language": "python",
   "name": "python3"
  },
  "language_info": {
   "codemirror_mode": {
    "name": "ipython",
    "version": 3
   },
   "file_extension": ".py",
   "mimetype": "text/x-python",
   "name": "python",
   "nbconvert_exporter": "python",
   "pygments_lexer": "ipython3",
   "version": "3.9.13"
  }
 },
 "nbformat": 4,
 "nbformat_minor": 5
}
